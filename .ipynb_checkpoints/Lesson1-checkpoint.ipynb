{
 "cells": [
  {
   "cell_type": "markdown",
   "id": "allied-matter",
   "metadata": {},
   "source": [
    "# Data Types"
   ]
  },
  {
   "cell_type": "markdown",
   "id": "textile-microphone",
   "metadata": {},
   "source": [
    "### 1. String, str(): a sentence, can be alphanumerical"
   ]
  },
  {
   "cell_type": "code",
   "execution_count": 6,
   "id": "comprehensive-singapore",
   "metadata": {
    "scrolled": true
   },
   "outputs": [
    {
     "name": "stdout",
     "output_type": "stream",
     "text": [
      "this is a string <class 'str'>\n",
      "12345 <class 'int'>\n",
      "12345 <class 'str'>\n"
     ]
    }
   ],
   "source": [
    "eg1 = 'this is a string'\n",
    "print(eg1, type(eg1))\n",
    "\n",
    "eg2 = 12345\n",
    "print(eg2, type(eg2))\n",
    "\n",
    "to_string = str(eg2)\n",
    "print(to_string, type(to_string))"
   ]
  },
  {
   "cell_type": "markdown",
   "id": "olive-termination",
   "metadata": {},
   "source": [
    "### 2. Integer, int(): a number without decimals\n",
    "### 3. Float, float(): a number with decimals"
   ]
  },
  {
   "cell_type": "code",
   "execution_count": 15,
   "id": "sexual-button",
   "metadata": {},
   "outputs": [
    {
     "name": "stdout",
     "output_type": "stream",
     "text": [
      "123 <class 'int'>\n",
      "1.902 <class 'float'>\n",
      "1 <class 'int'>\n",
      "123.0 <class 'float'>\n"
     ]
    }
   ],
   "source": [
    "int1 = 123\n",
    "print(123, type(int1))\n",
    "\n",
    "float1 = 1.902\n",
    "print(float1, type(float1))\n",
    "\n",
    "int2 = int(float1)\n",
    "print(int2, type(int2))\n",
    "# Rounds down to become an integer\n",
    "\n",
    "print(float(int1), type(float(int1)))"
   ]
  },
  {
   "cell_type": "markdown",
   "id": "specified-hawaii",
   "metadata": {},
   "source": [
    "### 4. List, list(): a list of items"
   ]
  },
  {
   "cell_type": "code",
   "execution_count": 20,
   "id": "aboriginal-elements",
   "metadata": {},
   "outputs": [
    {
     "name": "stdout",
     "output_type": "stream",
     "text": [
      "[] <class 'list'>\n",
      "['One', 2, 'Three', 4]\n"
     ]
    }
   ],
   "source": [
    "empty_list = []\n",
    "print(empty_list, type(empty_list))\n",
    "\n",
    "list1 = ['One', 2, 'Three', 4]\n",
    "print(list1)"
   ]
  },
  {
   "cell_type": "markdown",
   "id": "centered-property",
   "metadata": {},
   "source": [
    "### 5. Boolean, bool(): True or False, can be represented by 1 or 0\n",
    "### Operators:\n",
    "- \\>, greater than\n",
    "- <, less than\n",
    "- \\>=, greater than or equal to\n",
    "- <=, less than or equal to\n",
    "- == equals\n",
    "- != not equals"
   ]
  },
  {
   "cell_type": "code",
   "execution_count": 30,
   "id": "pursuant-cleveland",
   "metadata": {},
   "outputs": [
    {
     "name": "stdout",
     "output_type": "stream",
     "text": [
      "One greater than zero: True\n",
      "One less than zero: False\n",
      "One equals 1: True\n",
      "One equals two: False\n",
      "Two plus one equals three: True\n",
      "One is not equal to three: True\n"
     ]
    }
   ],
   "source": [
    "one = 1\n",
    "two = 2\n",
    "three = 3\n",
    "print(\"One greater than zero:\", 1 > 0)\n",
    "print(\"One less than zero:\", 1 < 0)\n",
    "print(\"One equals 1:\", one == 1)\n",
    "print(\"One equals two:\", one == 2)\n",
    "print(\"Two plus one equals three:\", two + one == three)\n",
    "print(\"One is not equal to three:\", one != three)"
   ]
  },
  {
   "cell_type": "markdown",
   "id": "constant-bermuda",
   "metadata": {},
   "source": [
    "### Other data types: tuples, dictionary, set"
   ]
  },
  {
   "cell_type": "code",
   "execution_count": 33,
   "id": "worse-needle",
   "metadata": {},
   "outputs": [
    {
     "name": "stdout",
     "output_type": "stream",
     "text": [
      "Enter your name: Ken\n",
      "Your name is Ken!\n"
     ]
    }
   ],
   "source": [
    "name = input(\"Enter your name: \")\n",
    "print(\"Your name is\", name + \"!\")"
   ]
  }
 ],
 "metadata": {
  "kernelspec": {
   "display_name": "Python 3",
   "language": "python",
   "name": "python3"
  },
  "language_info": {
   "codemirror_mode": {
    "name": "ipython",
    "version": 3
   },
   "file_extension": ".py",
   "mimetype": "text/x-python",
   "name": "python",
   "nbconvert_exporter": "python",
   "pygments_lexer": "ipython3",
   "version": "3.9.2"
  }
 },
 "nbformat": 4,
 "nbformat_minor": 5
}
